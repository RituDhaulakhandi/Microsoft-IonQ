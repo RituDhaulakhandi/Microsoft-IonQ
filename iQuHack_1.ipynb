{
  "cells": [
    {
      "cell_type": "code",
      "source": [
        "from qiskit import *\n",
        "from azure.quantum.qiskit import AzureQuantumProvider\n",
        "from qiskit.tools.monitor import job_monitor\n",
        "from qiskit.visualization import plot_histogram\n",
        "\n",
        "\n",
        "resource_id = \"/subscriptions/b1d7f7f8-743f-458e-b3a0-3e09734d716d/resourceGroups/aq-hackathons/providers/Microsoft.Quantum/Workspaces/aq-hackathon-01\"\n",
        "\n",
        "provider = AzureQuantumProvider(\n",
        "    resource_id=resource_id,\n",
        "    location= \"East US\"\n",
        ")\n"
      ],
      "outputs": [],
      "execution_count": 5,
      "metadata": {
        "jupyter": {
          "source_hidden": false,
          "outputs_hidden": false
        },
        "nteract": {
          "transient": {
            "deleting": false
          }
        }
      }
    },
    {
      "cell_type": "code",
      "source": [
        "pip install azure-quantum"
      ],
      "outputs": [
        {
          "output_type": "stream",
          "name": "stdout",
          "text": "Defaulting to user installation because normal site-packages is not writeable\nRequirement already satisfied: azure-quantum in /usr/local/lib/python3.7/site-packages (0.21.2112.180703)\nRequirement already satisfied: azure-identity>=1.6.0 in /usr/local/lib/python3.7/site-packages (from azure-quantum) (1.7.1)\nRequirement already satisfied: azure-core<=1.19.1 in /usr/local/lib/python3.7/site-packages (from azure-quantum) (1.19.1)\nRequirement already satisfied: aiohttp>=3.7.0 in /usr/local/lib/python3.7/site-packages (from azure-quantum) (3.8.1)\nRequirement already satisfied: numpy>=1.21.0 in /usr/local/lib/python3.7/site-packages (from azure-quantum) (1.21.4)\nRequirement already satisfied: msrest>=0.6.21 in /usr/local/lib/python3.7/site-packages (from azure-quantum) (0.6.21)\nRequirement already satisfied: deprecated>=1.2.12 in /usr/local/lib/python3.7/site-packages (from azure-quantum) (1.2.13)\nRequirement already satisfied: aiofile>=3.7.2 in /usr/local/lib/python3.7/site-packages (from azure-quantum) (3.7.2)\nRequirement already satisfied: azure-mgmt-core>=1.3.0 in /usr/local/lib/python3.7/site-packages (from azure-quantum) (1.3.0)\nRequirement already satisfied: protobuf>=3.14.0 in /usr/local/lib/python3.7/site-packages (from azure-quantum) (3.19.1)\nRequirement already satisfied: azure-storage-blob>=12.8.1 in /usr/local/lib/python3.7/site-packages (from azure-quantum) (12.9.0)\nRequirement already satisfied: caio~=0.9.0 in /usr/local/lib/python3.7/site-packages (from aiofile>=3.7.2->azure-quantum) (0.9.3)\nRequirement already satisfied: frozenlist>=1.1.1 in /usr/local/lib/python3.7/site-packages (from aiohttp>=3.7.0->azure-quantum) (1.2.0)\nRequirement already satisfied: charset-normalizer<3.0,>=2.0 in /usr/local/lib/python3.7/site-packages (from aiohttp>=3.7.0->azure-quantum) (2.0.9)\nRequirement already satisfied: multidict<7.0,>=4.5 in /usr/local/lib/python3.7/site-packages (from aiohttp>=3.7.0->azure-quantum) (5.2.0)\nRequirement already satisfied: async-timeout<5.0,>=4.0.0a3 in /usr/local/lib/python3.7/site-packages (from aiohttp>=3.7.0->azure-quantum) (4.0.1)\nRequirement already satisfied: yarl<2.0,>=1.0 in /usr/local/lib/python3.7/site-packages (from aiohttp>=3.7.0->azure-quantum) (1.7.2)\nRequirement already satisfied: aiosignal>=1.1.2 in /usr/local/lib/python3.7/site-packages (from aiohttp>=3.7.0->azure-quantum) (1.2.0)\nRequirement already satisfied: asynctest==0.13.0 in /usr/local/lib/python3.7/site-packages (from aiohttp>=3.7.0->azure-quantum) (0.13.0)\nRequirement already satisfied: typing-extensions>=3.7.4 in /usr/local/lib/python3.7/site-packages (from aiohttp>=3.7.0->azure-quantum) (4.0.1)\nRequirement already satisfied: attrs>=17.3.0 in /usr/local/lib/python3.7/site-packages (from aiohttp>=3.7.0->azure-quantum) (21.2.0)\nRequirement already satisfied: six>=1.11.0 in /usr/local/lib/python3.7/site-packages (from azure-core<=1.19.1->azure-quantum) (1.16.0)\nRequirement already satisfied: requests>=2.18.4 in /usr/local/lib/python3.7/site-packages (from azure-core<=1.19.1->azure-quantum) (2.26.0)\nRequirement already satisfied: msal<2.0.0,>=1.12.0 in /usr/local/lib/python3.7/site-packages (from azure-identity>=1.6.0->azure-quantum) (1.16.0)\nRequirement already satisfied: msal-extensions~=0.3.0 in /usr/local/lib/python3.7/site-packages (from azure-identity>=1.6.0->azure-quantum) (0.3.0)\nRequirement already satisfied: cryptography>=2.5 in /usr/local/lib/python3.7/site-packages (from azure-identity>=1.6.0->azure-quantum) (36.0.0)\nRequirement already satisfied: wrapt<2,>=1.10 in /usr/local/lib/python3.7/site-packages (from deprecated>=1.2.12->azure-quantum) (1.13.3)\nRequirement already satisfied: certifi>=2017.4.17 in /usr/local/lib/python3.7/site-packages (from msrest>=0.6.21->azure-quantum) (2021.10.8)\nRequirement already satisfied: isodate>=0.6.0 in /usr/local/lib/python3.7/site-packages (from msrest>=0.6.21->azure-quantum) (0.6.0)\nRequirement already satisfied: requests-oauthlib>=0.5.0 in /usr/local/lib/python3.7/site-packages (from msrest>=0.6.21->azure-quantum) (1.3.0)\nRequirement already satisfied: cffi>=1.12 in /usr/local/lib/python3.7/site-packages (from cryptography>=2.5->azure-identity>=1.6.0->azure-quantum) (1.15.0)\nRequirement already satisfied: PyJWT[crypto]<3,>=1.0.0 in /usr/local/lib/python3.7/site-packages (from msal<2.0.0,>=1.12.0->azure-identity>=1.6.0->azure-quantum) (2.3.0)\nRequirement already satisfied: portalocker~=1.0 in /usr/local/lib/python3.7/site-packages (from msal-extensions~=0.3.0->azure-identity>=1.6.0->azure-quantum) (1.7.1)\nRequirement already satisfied: idna<4,>=2.5 in /usr/local/lib/python3.7/site-packages (from requests>=2.18.4->azure-core<=1.19.1->azure-quantum) (3.3)\nRequirement already satisfied: urllib3<1.27,>=1.21.1 in /usr/local/lib/python3.7/site-packages (from requests>=2.18.4->azure-core<=1.19.1->azure-quantum) (1.26.7)\nRequirement already satisfied: oauthlib>=3.0.0 in /usr/local/lib/python3.7/site-packages (from requests-oauthlib>=0.5.0->msrest>=0.6.21->azure-quantum) (3.1.1)\nRequirement already satisfied: pycparser in /usr/local/lib/python3.7/site-packages (from cffi>=1.12->cryptography>=2.5->azure-identity>=1.6.0->azure-quantum) (2.21)\nNote: you may need to restart the kernel to use updated packages.\n"
        }
      ],
      "execution_count": 6,
      "metadata": {
        "jupyter": {
          "source_hidden": false,
          "outputs_hidden": false
        },
        "nteract": {
          "transient": {
            "deleting": false
          }
        }
      }
    },
    {
      "cell_type": "code",
      "source": [
        "print([backend.name() for backend in provider.backends()])"
      ],
      "outputs": [
        {
          "output_type": "stream",
          "name": "stdout",
          "text": "['ionq.qpu', 'ionq.simulator']\n"
        }
      ],
      "execution_count": 7,
      "metadata": {
        "jupyter": {
          "source_hidden": false,
          "outputs_hidden": false
        },
        "nteract": {
          "transient": {
            "deleting": false
          }
        }
      }
    },
    {
      "cell_type": "code",
      "source": [
        "from qiskit import QuantumCircuit, Aer, execute\r\n",
        "from qiskit.visualization import plot_histogram"
      ],
      "outputs": [],
      "execution_count": 8,
      "metadata": {
        "jupyter": {
          "source_hidden": false,
          "outputs_hidden": false
        },
        "nteract": {
          "transient": {
            "deleting": false
          }
        }
      }
    },
    {
      "cell_type": "code",
      "source": [
        "# import all necessary objects and methods for quantum circuits\r\n",
        "from qiskit import QuantumRegister, ClassicalRegister, QuantumCircuit, execute\r\n",
        "from qiskit import *\r\n",
        "from azure.quantum.qiskit import AzureQuantumProvider\r\n",
        "from qiskit.tools.monitor import job_monitor\r\n",
        "from qiskit.visualization import plot_histogram\r\n",
        "all_pairs = ['00','01','10','11']\r\n",
        "\r\n",
        "for pair in all_pairs:\r\n",
        "\r\n",
        "    # create a quantum curcuit with two qubits: Parent's and Child's qubits. (Unit1 and Unit2)\r\n",
        "    # both are set to |0>.\r\n",
        "    q = QuantumRegister(2,\"q\") # quantum register with 2 qubits\r\n",
        "    c = ClassicalRegister(2,\"c\") # classical register with 2 bits\r\n",
        "    qc = QuantumCircuit(q,c) # quantum circuit with quantum and classical registers\r\n",
        "\r\n",
        "    # apply h-gate (Hadamard) to the Parent's qubit\r\n",
        "    qc.h(q[1])\r\n",
        "\r\n",
        "    # apply cx-gate as CNOT(Parent's-qubit,Children-qubit)\r\n",
        "    qc.cx(q[1],q[0])\r\n",
        "\r\n",
        "    # they are separated from each other now\r\n",
        "\r\n",
        "    # if a is 1, then apply z-gate to Parent's qubit\r\n",
        "    if pair[0]=='1': \r\n",
        "        qc.z(q[1])\r\n",
        "    \r\n",
        "    # if b is 1, then apply x-gate (NOT) to Parent's qubit\r\n",
        "    if pair[1]=='1': \r\n",
        "        qc.x(q[1])\r\n",
        "    \r\n",
        "    #Parent sends its qubit to Children\r\n",
        "    qc.barrier()\r\n",
        "    \r\n",
        "    #  apply cx-gate as CNOT(Parent's-qubit,Children'-qubit)\r\n",
        "    qc.cx(q[1],q[0])\r\n",
        "    \r\n",
        "    # apply h-gate (Hadamard) to the Parent's qubit\r\n",
        "    qc.h(q[1])\r\n",
        "    \r\n",
        "    # measure both qubits\r\n",
        "    qc.barrier()\r\n",
        "    qc.measure(q,c)\r\n",
        "    \r\n",
        "    \r\n",
        "    # compare the results with pair (a,b)\r\n",
        "backend = provider.get_backend(\"ionq.simulator\")\r\n",
        "job = backend.run(qc, shots=100)\r\n",
        "job_monitor(job)\r\n",
        "result = job.result()"
      ],
      "outputs": [
        {
          "output_type": "stream",
          "name": "stdout",
          "text": "Job Status: job has successfully run\n"
        }
      ],
      "execution_count": 9,
      "metadata": {
        "jupyter": {
          "source_hidden": false,
          "outputs_hidden": false
        },
        "nteract": {
          "transient": {
            "deleting": false
          }
        }
      }
    },
    {
      "cell_type": "code",
      "source": [
        "counts = job.result().get_counts(qc)\r\n",
        "print(pair,\"-->\",counts) \r\n",
        "plot_histogram(counts)"
      ],
      "outputs": [
        {
          "output_type": "stream",
          "name": "stdout",
          "text": "11 --> {'11': 100}\n"
        },
        {
          "output_type": "execute_result",
          "execution_count": 11,
          "data": {
            "text/plain": "<Figure size 504x360 with 1 Axes>",
            "image/png": "[encoded data removed]"
          },
          "metadata": {}
        }
      ],
      "execution_count": 11,
      "metadata": {
        "jupyter": {
          "source_hidden": false,
          "outputs_hidden": false
        },
        "nteract": {
          "transient": {
            "deleting": false
          }
        }
      }
    }
  ],
  "metadata": {
    "language_info": {
      "name": "python",
      "version": "3.7.12",
      "mimetype": "text/x-python",
      "codemirror_mode": {
        "name": "ipython",
        "version": 3
      },
      "pygments_lexer": "ipython3",
      "nbconvert_exporter": "python",
      "file_extension": ".py"
    },
    "kernelspec": {
      "name": "python3",
      "language": "python",
      "display_name": "Python 3 (ipykernel)"
    },
    "kernel_info": {
      "name": "python3"
    },
    "nteract": {
      "version": "nteract-front-end@1.0.0"
    }
  },
  "nbformat": 4,
  "nbformat_minor": 0
}