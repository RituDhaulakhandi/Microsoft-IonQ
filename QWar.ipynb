{
  "cells": [
    {
      "cell_type": "code",
      "source": [
        "from azure.quantum import Workspace\n",
        "workspace = Workspace (\n",
        "    subscription_id = \"b1d7f7f8-743f-458e-b3a0-3e09734d716d\",\n",
        "    resource_group = \"aq-hackathons\",\n",
        "    name = \"aq-hackathon-01\",\n",
        "    location = \"eastus\"\n",
        ")\n"
      ],
      "outputs": [],
      "execution_count": 1,
      "metadata": {
        "jupyter": {
          "source_hidden": false,
          "outputs_hidden": false
        },
        "nteract": {
          "transient": {
            "deleting": false
          }
        }
      }
    },
    {
      "cell_type": "code",
      "source": [
        "!git clone https://github.com/Borris-the-real-OG/iQuHack_2022.git"
      ],
      "outputs": [
        {
          "output_type": "stream",
          "name": "stdout",
          "text": "Cloning into 'iQuHack_2022'...\nremote: Enumerating objects: 1856, done.\u001b[K\nremote: Counting objects: 100% (1856/1856), done.\u001b[K\nremote: Compressing objects: 100% (624/624), done.\u001b[K\nremote: Total 1856 (delta 1243), reused 1823 (delta 1210), pack-reused 0\u001b[K\nReceiving objects: 100% (1856/1856), 38.20 MiB | 23.53 MiB/s, done.\nResolving deltas: 100% (1243/1243), done.\n"
        }
      ],
      "execution_count": 13,
      "metadata": {
        "jupyter": {
          "source_hidden": false,
          "outputs_hidden": false
        },
        "nteract": {
          "transient": {
            "deleting": false
          }
        }
      }
    }
  ],
  "metadata": {
    "language_info": {
      "name": "python",
      "version": "3.7.12",
      "mimetype": "text/x-python",
      "codemirror_mode": {
        "name": "ipython",
        "version": 3
      },
      "pygments_lexer": "ipython3",
      "nbconvert_exporter": "python",
      "file_extension": ".py"
    },
    "kernelspec": {
      "name": "python3",
      "language": "python",
      "display_name": "Python 3 (ipykernel)"
    },
    "kernel_info": {
      "name": "python3"
    },
    "nteract": {
      "version": "nteract-front-end@1.0.0"
    }
  },
  "nbformat": 4,
  "nbformat_minor": 0
}